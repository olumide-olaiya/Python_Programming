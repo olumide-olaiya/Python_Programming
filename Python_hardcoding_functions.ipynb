{
 "cells": [
  {
   "cell_type": "markdown",
   "metadata": {},
   "source": []
  },
  {
   "cell_type": "markdown",
   "metadata": {
    "deletable": false
   },
   "source": [
    "A function to find the arithmetic mean"
   ]
  },
  {
   "cell_type": "code",
   "execution_count": null,
   "metadata": {},
   "outputs": [],
   "source": [
    "#.mean\n",
    "def Mydata_Mean(Mydata):\n",
    "# to get mean, which is the sum of data divided by the number/ length of the numbers \n",
    "# number/ length of data\n",
    "    Mydata_numb= len(Mydata)\n",
    "\n",
    "# adding all the numbers \n",
    "    Mydata_Sum= sum(Mydata)\n",
    "\n",
    "# mean now becomes \n",
    "\n",
    "    Mydata_Mean= Mydata_Sum/ Mydata_numb\n",
    "\n",
    "    return Mydata_Mean\n",
    "\n",
    "# input the list of data\n",
    "Mydata= [29, 17, 28, 6, 14, 7, 4, 27, 21, 15, 10, 16, 24, 26, 3, 11, 13, 8, 23, 9, 0, 22, 12, 2, 18, 19, 5, 1, 20, 25]\n",
    "#  print the mean of the data list \n",
    "Mydata_Mean(Mydata)"
   ]
  },
  {
   "cell_type": "markdown",
   "metadata": {
    "deletable": false
   },
   "source": [
    "A function to find the standard deviation"
   ]
  },
  {
   "cell_type": "code",
   "execution_count": null,
   "metadata": {},
   "outputs": [],
   "source": [
    "#....sd...\n",
    "#.. I used the Population Standard Deviation formular here since we can  measure an entire population or the entire set of the data\n",
    "def Mydata_sd(Mydata):\n",
    "    Mydata_numb=len(Mydata)\n",
    "    Mydata_Mean=sum(Mydata)/Mydata_numb\n",
    "    Mydata_Var= sum((y - Mydata_Mean)**2  for y in Mydata)/ Mydata_numb\n",
    "    Mydata_sd= Mydata_Var**0.5\n",
    "    return Mydata_sd\n",
    "   \n",
    "     \n",
    "Mydata=[29,17, 28, 6, 14, 7, 4, 27, 21, 15, 10, 16, 24, 26, 3, 11, 13, 8, 23, 9, 0, 22, 12, 2, 18, 19, 5, 1, 20, 25]\n",
    "#  print the standard deviation of the data list \n",
    "Mydata_sd(Mydata)"
   ]
  },
  {
   "cell_type": "markdown",
   "metadata": {
    "deletable": false
   },
   "source": [
    "A function to find the median "
   ]
  },
  {
   "cell_type": "code",
   "execution_count": null,
   "metadata": {},
   "outputs": [],
   "source": [
    "#...median\n",
    "\n",
    "def Mydata_Median(Mydata):\n",
    "\n",
    "    # to get median, we need to sort the data in ascending order, then check if the number of items is even or odd. \n",
    "    # number/ length of data\n",
    "    Mydata_numb= len(Mydata)\n",
    "    # we sort the data here\n",
    "    Mydata=sorted(Mydata)\n",
    "    # check if the length of the data is even or not\n",
    "    if Mydata_numb % 2 != 0:\n",
    "        return float (Mydata[int(Mydata_numb/2)])\n",
    "    \n",
    "    return float((Mydata[int((Mydata_numb-1)/2)] + Mydata[int(Mydata_numb/2)])/2.0)\n",
    "# input the list of data\n",
    "Mydata= [29,17, 28, 6, 14, 7, 4, 27, 21, 15, 10, 16, 24, 26, 3, 11, 13, 8, 23, 9, 0, 22, 12, 2, 18, 19, 5, 1, 20, 25]\n",
    "#  print the standard deviation of the data list \n",
    "Mydata_Median(Mydata)"
   ]
  },
  {
   "cell_type": "markdown",
   "metadata": {
    "deletable": false
   },
   "source": [
    "A function to find the skewness"
   ]
  },
  {
   "cell_type": "code",
   "execution_count": null,
   "metadata": {},
   "outputs": [],
   "source": [
    "#..SKEWNESS\n",
    "def Mydata_skew(Mydata):\n",
    "    # to get skewness, we use 3(mean-median)/standard deviation. since we have these parameters.\n",
    "    #.......THE SKEWNESS............\n",
    "\n",
    "    Mydata_skew = 3 *( Mydata_Mean(Mydata) -  Mydata_Median(Mydata))/ Mydata_sd(Mydata)\n",
    "    return  Mydata_skew\n",
    "# input the list of data\n",
    "Mydata= [29,17, 28, 6, 14, 7, 4, 27, 21, 15, 10, 16, 24, 26, 3, 11, 13, 8, 23, 9, 0, 22, 12, 2, 18, 19, 5, 1, 20, 25]\n",
    "#  print the standard deviation of the data list \n",
    "Mydata_skew(Mydata)"
   ]
  },
  {
   "cell_type": "markdown",
   "metadata": {
    "deletable": false
   },
   "source": [
    "A function to read a single column from a CSV file"
   ]
  },
  {
   "cell_type": "code",
   "execution_count": null,
   "metadata": {},
   "outputs": [],
   "source": [
    "#######....FR5................\n",
    "def opencsv(filename, colnum):\n",
    "    csv_items = []\n",
    "    # Opening csv as the mydata and close it after blocking\n",
    "    with open(filename, 'r') as mydata:\n",
    "        # Seperation column names from data\n",
    "        column_name = mydata.readline().replace (\"\\n\",\"\").split(',')\n",
    "        column_data = mydata.readlines()\n",
    "        # looping through rows and appending to list\n",
    "        for row in column_data:\n",
    "            row = row.replace (\"\\n\",\"\").split(',')\n",
    "            if csv_items:\n",
    "                for x, value in enumerate(row):\n",
    "                    csv_items[x].append(float(value))\n",
    "            else:\n",
    "            # first row\n",
    "                    csv_items = [[float(value)] for value in row]\n",
    "        #Zipping data into list\n",
    "        csvdata=list(zip(column_name, csv_items))\n",
    "    print(csvdata[colnum])\n",
    "\n",
    "opencsv('task1.csv',1)"
   ]
  },
  {
   "cell_type": "markdown",
   "metadata": {
    "deletable": false
   },
   "source": [
    "A function to read CSV data from a file into memory"
   ]
  },
  {
   "cell_type": "code",
   "execution_count": null,
   "metadata": {},
   "outputs": [],
   "source": [
    "#.....FR6.....\n",
    "def opencsv(filename):    \n",
    "    csv_items = []\n",
    "    # Opening csv as the mydata and close it after blocking\n",
    "    with open(filename, 'r') as mydata:\n",
    "        # Seperation column names from data\n",
    "        column_name = mydata.readline().replace (\"\\n\",\"\").split(',')\n",
    "        # str(column_name[])\n",
    "        column_data = mydata.readlines()\n",
    "        # looping through rows and appending to  a list\n",
    "        for row in column_data:\n",
    "            row = row.replace (\"\\n\",\"\").split(',')\n",
    "            if csv_items:\n",
    "                for x, value in enumerate(row):\n",
    "                    csv_items[x].append(float(value))\n",
    "            else:\n",
    "            # first row\n",
    "                    csv_items = [[float(value)] for value in row]\n",
    "        #Zipping data into list\n",
    "        csvdata=dict(zip(column_name, csv_items))\n",
    "    return(csvdata)\n",
    "\n",
    "print(opencsv('task1.csv'))"
   ]
  },
  {
   "cell_type": "markdown",
   "metadata": {
    "deletable": false
   },
   "source": [
    "A function to generate a set of statistics for a given data file"
   ]
  },
  {
   "cell_type": "code",
   "execution_count": null,
   "metadata": {},
   "outputs": [],
   "source": [
    "# add code here\n",
    "def stat_test(filename):\n",
    "    myfile_dict = opencsv(filename)\n",
    "    # call in those generated statistics as from previous functions above\n",
    "    gen_dict = {key:[round(Mydata_Mean(value),6),round(Mydata_sd(value),6),round(Mydata_Median(value),6),round(Mydata_skew(value),6)] for key,value in myfile_dict.items()}\n",
    "    # Set of Statistics to be computed below        \n",
    "    header = {\"Stat\" : [\"Mean\",\"Stdev\",\"Median\",\"Skewness\"]}\n",
    "    combined = {**header,**gen_dict}\n",
    "    return(combined)\n",
    "stat_test(\"task1.csv\")"
   ]
  },
  {
   "cell_type": "markdown",
   "metadata": {
    "deletable": false
   },
   "source": [
    "A function to print a custom table"
   ]
  },
  {
   "cell_type": "code",
   "execution_count": null,
   "metadata": {},
   "outputs": [],
   "source": [
    "def my_custom_table(filename,character,columns):\n",
    "#calling function statistics\n",
    "    csv_data = stat_test(filename)\n",
    "    csv_data = {key:value for key,value in csv_data.items() if key == \"Stat\" or key in columns}\n",
    "    csv_data = [[item,*key] for item,key in csv_data.items()]\n",
    "    csv_data[0][0]=\"\"\n",
    "#transposing data in the list\n",
    "    transpose_data=[]\n",
    "    for item in zip(*csv_data):\n",
    "        transpose_data.append(item)\n",
    "    for item in transpose_data:\n",
    "        str(item)\n",
    "#Storing the first item as header\n",
    "    header =transpose_data.pop(0)\n",
    "#defining a function for fixed width in each column\n",
    "    def col_width(data,width):\n",
    "        if len(str(data))>width:\n",
    "            data = str(data)[:width]\n",
    "        elif len(str(data))<width:\n",
    "            data=(\" \"+data+\" \"*width)[:width]\n",
    "        return data\n",
    "#printing the * top border\n",
    "    y=len(columns)\n",
    "    width_header=max([len(x) for x in columns])+5\n",
    "    print(\" \"+\" \"*width_header+(y+1)*character+character*width_header*y)\n",
    "    print(\" \", end=\"\")\n",
    "#printing out header and seperating data with *\n",
    "    for column in header:\n",
    "        print(col_width(column,max([len(i) for i in columns])+5),end=character)\n",
    "    print()\n",
    "#printing the * middle border\n",
    "    print(character*width_header*y+character*width_header+(y+2)*character)\n",
    "#printing out statistics data\n",
    "    for row in transpose_data:\n",
    "        print(character, end=\"\")\n",
    "        for column in row:\n",
    "            print(col_width(str(column),max([len(i) for i in columns])+5),end=character)\n",
    "        print()\n",
    "#printing the * bottom border\n",
    "    print(character*width_header*y+character*width_header+(y+2)*character)\n",
    "mycol= ['age','pop','share_white','share_black','share_hispanic','personal_income','household_income','poverty_rate','unemployment_rate','uni_education_25+']    \n",
    "my_custom_table('task1.csv',\"*\",mycol)"
   ]
  }
 ],
 "metadata": {
  "interpreter": {
   "hash": "52634da84371cba311ea128a5ea7cdc41ff074b781779e754b270ff9f8153cee"
  },
  "kernelspec": {
   "display_name": "Python 3.10.2 64-bit",
   "language": "python",
   "name": "python3"
  },
  "language_info": {
   "codemirror_mode": {
    "name": "ipython",
    "version": 3
   },
   "file_extension": ".py",
   "mimetype": "text/x-python",
   "name": "python",
   "nbconvert_exporter": "python",
   "pygments_lexer": "ipython3",
   "version": "3.10.2"
  }
 },
 "nbformat": 4,
 "nbformat_minor": 4
}
