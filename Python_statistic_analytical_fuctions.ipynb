{
 "cells": [
  {
   "cell_type": "markdown",
   "metadata": {
    "deletable": false
   },
   "source": [
    "Read CSV data from two files and merge it into a single Data Frame "
   ]
  },
  {
   "cell_type": "code",
   "execution_count": null,
   "metadata": {},
   "outputs": [],
   "source": [
    "# reading two csv files\n",
    "import pandas as pd\n",
    "data1 = pd.read_csv('task2a.csv')\n",
    "data2 = pd.read_csv('task2b.csv')\n",
    "  \n",
    "# using merge function by setting how='inner'\n",
    "output1 = pd.merge(data1, data2, \n",
    "                   on='timestamp', \n",
    "                   how='inner')\n",
    "  \n",
    "# displaying result\n",
    "output2=pd.DataFrame(output1)\n",
    "output2"
   ]
  },
  {
   "cell_type": "markdown",
   "metadata": {
    "deletable": false
   },
   "source": [
    "Clean the merged data"
   ]
  },
  {
   "cell_type": "code",
   "execution_count": null,
   "metadata": {},
   "outputs": [],
   "source": [
    "# check and take out  rows where new_bike_shares is <20\n",
    "index_rows =output2.loc[output2['new_bike_shares']<20].index\n",
    "output2.drop(index_rows, inplace=True)\n",
    "\n",
    "# to drop the column season_code\n",
    "\n",
    "output2.drop(\"season_code\",axis=1,inplace=True)\n",
    "output2"
   ]
  },
  {
   "cell_type": "markdown",
   "metadata": {
    "deletable": false
   },
   "source": [
    "Investigate the distribution of bike shares by time of the day"
   ]
  },
  {
   "cell_type": "code",
   "execution_count": null,
   "metadata": {},
   "outputs": [],
   "source": [
    "#  To investigate the distributon of bike shares by time of the day\n",
    "import matplotlib.pyplot as plt\n",
    "import pandas as pd\n",
    "import numpy as np\n",
    "import seaborn as sns\n",
    "import scipy.stats\n",
    "# now plot using seaborn\n",
    "\n",
    "#..turn timestamp column to date time\n",
    "#..Using the hourly mark for comparison and making use of the mean estimate for adequate representation of each hour.\n",
    "output2[\"timestamp\"]=output2[\"timestamp\"].astype(\"datetime64\")\n",
    "output2[[\"new_bike_shares\"]].groupby(output2[\"timestamp\"].dt.hour).mean().plot(\n",
    "    \n",
    "    kind=\"bar\", title=\"Distribution of Bike Shares by Hour\",\n",
    "    xlabel=\"Hour of the Day\", ylabel=\"Number of Bikes\",legend=False)\n",
    "\n",
    "\n"
   ]
  },
  {
   "cell_type": "markdown",
   "metadata": {},
   "source": [
    "<font color=red >*Explanation*:</font>   **Distribution of Bike Shares by Time of the Day**\n",
    "   \n",
    "- From the plot shown above, the highest spikes are at the 08:00 hour of the day while the next spike occurs at 17:00 and 18:00 hour of the day.\n",
    "- This confirms that these are the peak hours of the day as people would be needing to leave their houses at about 08:00 for certain jobs in the morning and returning home at 17:00 and 18:00.  \n",
    "- The drastic drop as we move from 18:00 down to 23:00 suggest that the use of these bikes at night-time become insignificant as it could also suggest it is not a save mode of transportation at such hours of the day.\n"
   ]
  },
  {
   "cell_type": "markdown",
   "metadata": {
    "deletable": false
   },
   "source": [
    "Compare the distribution of bike shares by time of the week"
   ]
  },
  {
   "cell_type": "code",
   "execution_count": null,
   "metadata": {},
   "outputs": [],
   "source": [
    "#  To investigate the distributon of bike shares by time of the week;\n",
    "#  To compare the diffrence in weekend and weekday distrubutions.\n",
    "import matplotlib.pyplot as plt\n",
    "import pandas as pd\n",
    "import numpy as np\n",
    "import seaborn as sns\n",
    "import scipy.stats\n",
    "# now plot using seaborn\n",
    "\n",
    "#..turn timestamp column to date time\n",
    "output2[\"timestamp\"]=output2[\"timestamp\"].astype(\"datetime64\")\n",
    "output2[[\"new_bike_shares\"]].groupby(output2[\"is_weekend\"]).mean().plot(\n",
    "    \n",
    "    kind=\"bar\",title=\"Distribution of Bike Shares by time of the Week\",\n",
    "    xlabel=\"Is Weekend(No=0, Yes=1)\", ylabel=\"Number of Bikes\")"
   ]
  },
  {
   "cell_type": "markdown",
   "metadata": {},
   "source": [
    "<font color=red >*Explanation*:</font>   **Distribution of Bike Shares by Time of the Week**\n",
    "   \n",
    "- From the plot shown, there are more usage of bikes during the weekdays than the weekends.\n",
    "- This could be as result that people go to works during the week than the weekend as some persons may literally take the weekend for series of  relaxation, time to spend with families  and hence movement are less.\n"
   ]
  },
  {
   "cell_type": "markdown",
   "metadata": {
    "deletable": false
   },
   "source": [
    "Investigate the effects of “feels like” temperature on the number of bike shares"
   ]
  },
  {
   "cell_type": "code",
   "execution_count": null,
   "metadata": {},
   "outputs": [],
   "source": [
    "# To invetsigate the relationship between feels like temperature abd the number of bike shares,\n",
    "# We look at the correlation values.\n",
    "correlations=output2[['feels_like_temp',\"new_bike_shares\"]].corr()\n",
    "print(correlations)\n",
    "#....I also use the heatmp to visualize the degree of the correlation\n",
    "sns.heatmap(correlations)\n",
    "#...The scatter plot with the line of fit to also show the linearity that exist between the two variables.\n",
    "sns.lmplot(x=\"feels_like_temp\", y=\"new_bike_shares\", data= output2)\n"
   ]
  },
  {
   "cell_type": "markdown",
   "metadata": {},
   "source": [
    "<font color=red >*Explanation*:</font>   **Correlation between the “feels like” temperature and the number of bike shares.**\n",
    "   \n",
    "- The correlation value of 0.36774.\n",
    "- This shows that there is a low degree of correlation.\n",
    "- The correlation is positive which shows there is an association however, It is weak.\n"
   ]
  },
  {
   "cell_type": "markdown",
   "metadata": {
    "deletable": false
   },
   "source": [
    "Test the hypothesis that “feels like” temperature has an effect on the number of bike shares"
   ]
  },
  {
   "cell_type": "code",
   "execution_count": null,
   "metadata": {},
   "outputs": [],
   "source": [
    "#  using the pearson  correlation , we test for the significance of the correlation.\n",
    "#  To test if the true correlation is zero or not.\n",
    "results=scipy.stats.pearsonr(output2[\"feels_like_temp\"], output2[\"new_bike_shares\"])\n",
    "results\n"
   ]
  },
  {
   "cell_type": "markdown",
   "metadata": {},
   "source": [
    "<font color=red >*Explanation*:</font>   **Test of correlation significance between  “feels like” temperature and the number of bike shares.**\n",
    "- From the test of significance for the correlation,\n",
    "- Testing at 0.05 level of significance;  $alpha = 0.05$\n",
    "- ***Null Hypothesis:*** The correlation is not statistically significant  \n",
    "  ***Alternative Hypothesis:*** The correlation is statistically significant.\n",
    "  \n",
    "- ***Decision:*** Since the $p-value$ we got($pr < 0.000$) is less than $0.05$, we reject the Null hypothesis.\n",
    "- ***Conclusion:*** Hence, we can conclude that there is a positive correlation between “feels like” temperature and the number of bike shares, though it is weak  yet statistically significant.\n"
   ]
  }
 ],
 "metadata": {
  "interpreter": {
   "hash": "52634da84371cba311ea128a5ea7cdc41ff074b781779e754b270ff9f8153cee"
  },
  "kernelspec": {
   "display_name": "Python 3.10.2 64-bit",
   "language": "python",
   "name": "python3"
  },
  "language_info": {
   "codemirror_mode": {
    "name": "ipython",
    "version": 3
   },
   "file_extension": ".py",
   "mimetype": "text/x-python",
   "name": "python",
   "nbconvert_exporter": "python",
   "pygments_lexer": "ipython3",
   "version": "3.10.2"
  }
 },
 "nbformat": 4,
 "nbformat_minor": 4
}
